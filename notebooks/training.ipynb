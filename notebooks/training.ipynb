{
 "cells": [
  {
   "cell_type": "code",
   "execution_count": 50,
   "id": "8fbbabc9",
   "metadata": {},
   "outputs": [],
   "source": [
    "import sys\n",
    "import os\n",
    "\n",
    "sys.path.insert(0, os.path.dirname(os.getcwd()))"
   ]
  },
  {
   "cell_type": "code",
   "execution_count": 51,
   "id": "21097685",
   "metadata": {},
   "outputs": [],
   "source": [
    "from scripts import dataset\n",
    "from scripts.chess_utils import tensor_to_board, action_to_san"
   ]
  },
  {
   "cell_type": "code",
   "execution_count": 52,
   "id": "b3f4f2ac",
   "metadata": {},
   "outputs": [],
   "source": [
    "dataset = dataset.TrainingDataset('../training_data.bin')"
   ]
  },
  {
   "cell_type": "code",
   "execution_count": 53,
   "id": "985eac11",
   "metadata": {},
   "outputs": [],
   "source": [
    "from torch.utils.data import DataLoader\n",
    "\n",
    "dataloader = DataLoader(dataset, batch_size=1, shuffle=False)"
   ]
  },
  {
   "cell_type": "code",
   "execution_count": 63,
   "id": "9047d495",
   "metadata": {},
   "outputs": [
    {
     "name": "stdout",
     "output_type": "stream",
     "text": [
      "r . . . . . . .\n",
      ". . . p k . . p\n",
      "K . . n . p B P\n",
      ". . . . P . p .\n",
      ". . . . P N . .\n",
      ". . . . . b P .\n",
      ". p . . . . . .\n",
      ". . . . . . b .\n",
      "Policy:  tensor([0., 0., 0.,  ..., 0., 0., 0.])\n",
      "Legal Mask:  tensor([False, False, False,  ..., False, False, False])\n",
      "Child Visit Counts:  tensor([0, 0, 0,  ..., 0, 0, 0], dtype=torch.int32)\n",
      "Child Values:  tensor([0., 0., 0.,  ..., 0., 0., 0.])\n",
      "Value:  tensor(-1.)\n",
      "Final Value:  tensor(-1, dtype=torch.int32)\n",
      "r n b q k b n r\n",
      "p p p p p p p p\n",
      ". . . . . . . .\n",
      ". . . . . . . .\n",
      ". . . . . . . .\n",
      ". . . . . . . .\n",
      "P P P P P P P P\n",
      "R N B Q K B N R\n",
      "Policy:  tensor([0.0003, 0.0002, 0.0002,  ..., 0.0002, 0.0002, 0.0002])\n",
      "Legal Mask:  tensor([False, False, False,  ..., False, False, False])\n",
      "Child Visit Counts:  tensor([0, 0, 0,  ..., 0, 0, 0], dtype=torch.int32)\n",
      "Child Values:  tensor([0., 0., 0.,  ..., 0., 0., 0.])\n",
      "Value:  tensor(-0.0185)\n",
      "Final Value:  tensor(0, dtype=torch.int32)\n",
      "r n b q k b n r\n",
      "p p p p p p p p\n",
      ". . . . . . . .\n",
      ". . . . . . . .\n",
      ". . . . . . . .\n",
      ". . . . . N . .\n",
      "P P P P P P P P\n",
      "R N B Q K B . R\n",
      "Policy:  tensor([0.0003, 0.0002, 0.0002,  ..., 0.0002, 0.0002, 0.0002])\n",
      "Legal Mask:  tensor([False, False, False,  ..., False, False, False])\n",
      "Child Visit Counts:  tensor([0, 0, 0,  ..., 0, 0, 0], dtype=torch.int32)\n",
      "Child Values:  tensor([0.0000, 0.0000, 0.0000,  ..., 0.0002, 0.0002, 0.0002])\n",
      "Value:  tensor(0.0002)\n",
      "Final Value:  tensor(964451111, dtype=torch.int32)\n"
     ]
    }
   ],
   "source": [
    "for i in range(178, 181):\n",
    "  record = dataset[i]\n",
    "  print(tensor_to_board(record['board_tensor']))\n",
    "  policy = record[\"policy\"]\n",
    "  legal_mask = record[\"legal_mask\"]\n",
    "  child_visit_counts = record[\"child_visit_counts\"]\n",
    "  child_values = record[\"child_values\"]\n",
    "  value = record[\"value\"]\n",
    "  final_value = record[\"final_value\"]\n",
    "  print(\"Policy: \", policy)\n",
    "  print(\"Legal Mask: \", legal_mask)\n",
    "  print(\"Child Visit Counts: \", child_visit_counts)\n",
    "  print(\"Child Values: \", child_values)\n",
    "  print(\"Value: \", value)\n",
    "  print(\"Final Value: \", final_value)"
   ]
  },
  {
   "cell_type": "code",
   "execution_count": null,
   "id": "9947d0ac",
   "metadata": {},
   "outputs": [],
   "source": []
  }
 ],
 "metadata": {
  "kernelspec": {
   "display_name": "code",
   "language": "python",
   "name": "python3"
  },
  "language_info": {
   "codemirror_mode": {
    "name": "ipython",
    "version": 3
   },
   "file_extension": ".py",
   "mimetype": "text/x-python",
   "name": "python",
   "nbconvert_exporter": "python",
   "pygments_lexer": "ipython3",
   "version": "3.11.13"
  }
 },
 "nbformat": 4,
 "nbformat_minor": 5
}
