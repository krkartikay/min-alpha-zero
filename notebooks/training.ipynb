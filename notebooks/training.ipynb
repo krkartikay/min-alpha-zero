{
 "cells": [
  {
   "cell_type": "code",
   "execution_count": 1,
   "id": "8fbbabc9",
   "metadata": {},
   "outputs": [],
   "source": [
    "import sys\n",
    "import os\n",
    "\n",
    "sys.path.insert(0, os.path.dirname(os.getcwd()))"
   ]
  },
  {
   "cell_type": "code",
   "execution_count": 2,
   "id": "21097685",
   "metadata": {},
   "outputs": [],
   "source": [
    "from scripts import dataset\n",
    "from scripts.chess_utils import tensor_to_board, action_to_san, move_to_int, board_to_tensor, index_to_coordinates"
   ]
  },
  {
   "cell_type": "code",
   "execution_count": 3,
   "id": "b3f4f2ac",
   "metadata": {},
   "outputs": [],
   "source": [
    "dataset = dataset.TrainingDataset('../training_data.bin')"
   ]
  },
  {
   "cell_type": "code",
   "execution_count": 4,
   "id": "985eac11",
   "metadata": {},
   "outputs": [],
   "source": [
    "from torch.utils.data import DataLoader\n",
    "\n",
    "dataloader = DataLoader(dataset, batch_size=1, shuffle=False)"
   ]
  },
  {
   "cell_type": "code",
   "execution_count": 5,
   "id": "be185cec",
   "metadata": {},
   "outputs": [
    {
     "name": "stdout",
     "output_type": "stream",
     "text": [
      "Checkmate found in record 29\n",
      "r n b . k . . .\n",
      ". . p p Q p b r\n",
      ". . . . . . . p\n",
      "p . . . p . B .\n",
      "P . P P P . . P\n",
      ". p N . . . . .\n",
      ". P . . B P P q\n",
      "R . . . . K N R\n"
     ]
    }
   ],
   "source": [
    "# let's find a checkmate move in the dataset\n",
    "checkmate_idx = -1\n",
    "for i in range(1000):\n",
    "    record = dataset[i]\n",
    "    board = tensor_to_board(record['board_tensor'])\n",
    "    if board.is_checkmate():\n",
    "        print(f\"Checkmate found in record {i}\")\n",
    "        print(f\"{board}\")\n",
    "        checkmate_idx = i\n",
    "        break"
   ]
  },
  {
   "cell_type": "code",
   "execution_count": 6,
   "id": "9047d495",
   "metadata": {},
   "outputs": [
    {
     "name": "stdout",
     "output_type": "stream",
     "text": [
      "r n b . k . . .\n",
      ". . p p Q p b r\n",
      ". . . . . . . p\n",
      "p . . . p . B .\n",
      "P . P P P . . P\n",
      ". p N . . . . .\n",
      ". P . . B P P q\n",
      "R . . . . K N R\n",
      "Policy:  tensor([0., 0., 0.,  ..., 0., 0., 0.])\n",
      "Policy sum:  tensor(0.)\n",
      "Legal Mask:  tensor([False, False, False,  ..., False, False, False])\n",
      "Legal Mask sum:  tensor(0)\n",
      "Child Visit Counts:  tensor([0, 0, 0,  ..., 0, 0, 0], dtype=torch.int32)\n",
      "Child Visit Counts sum:  tensor(0)\n",
      "Child Values:  tensor([0., 0., 0.,  ..., 0., 0., 0.])\n",
      "Child Values sum:  tensor(0.)\n",
      "Value:  tensor(-1.)\n",
      "Final Value:  tensor(-1, dtype=torch.int32)\n"
     ]
    }
   ],
   "source": [
    "record = dataset[checkmate_idx]\n",
    "print(tensor_to_board(record['board_tensor']))\n",
    "policy = record[\"policy\"]\n",
    "legal_mask = record[\"legal_mask\"]\n",
    "child_visit_counts = record[\"child_visit_counts\"]\n",
    "child_values = record[\"child_values\"]\n",
    "value = record[\"value\"]\n",
    "final_value = record[\"final_value\"]\n",
    "print(\"Policy: \", policy)\n",
    "print(\"Policy sum: \", policy.sum())\n",
    "print(\"Legal Mask: \", legal_mask)\n",
    "print(\"Legal Mask sum: \", legal_mask.sum())\n",
    "print(\"Child Visit Counts: \", child_visit_counts)\n",
    "print(\"Child Visit Counts sum: \", child_visit_counts.sum())\n",
    "print(\"Child Values: \", child_values)\n",
    "print(\"Child Values sum: \", child_values.sum())\n",
    "print(\"Value: \", value)\n",
    "print(\"Final Value: \", final_value)"
   ]
  },
  {
   "cell_type": "code",
   "execution_count": 7,
   "id": "9947d0ac",
   "metadata": {},
   "outputs": [],
   "source": [
    "import torch\n",
    "from scripts import model"
   ]
  },
  {
   "cell_type": "code",
   "execution_count": 8,
   "id": "63cf2acf",
   "metadata": {},
   "outputs": [
    {
     "data": {
      "text/plain": [
       "RecursiveScriptModule(\n",
       "  original_name=ChessModel\n",
       "  (conv_blocks): RecursiveScriptModule(\n",
       "    original_name=ModuleList\n",
       "    (0): RecursiveScriptModule(\n",
       "      original_name=Sequential\n",
       "      (0): RecursiveScriptModule(original_name=Conv2d)\n",
       "      (1): RecursiveScriptModule(original_name=BatchNorm2d)\n",
       "      (2): RecursiveScriptModule(original_name=ReLU)\n",
       "      (3): RecursiveScriptModule(original_name=Conv2d)\n",
       "      (4): RecursiveScriptModule(original_name=BatchNorm2d)\n",
       "    )\n",
       "    (1): RecursiveScriptModule(\n",
       "      original_name=Sequential\n",
       "      (0): RecursiveScriptModule(original_name=Conv2d)\n",
       "      (1): RecursiveScriptModule(original_name=BatchNorm2d)\n",
       "      (2): RecursiveScriptModule(original_name=ReLU)\n",
       "      (3): RecursiveScriptModule(original_name=Conv2d)\n",
       "      (4): RecursiveScriptModule(original_name=BatchNorm2d)\n",
       "    )\n",
       "    (2): RecursiveScriptModule(\n",
       "      original_name=Sequential\n",
       "      (0): RecursiveScriptModule(original_name=Conv2d)\n",
       "      (1): RecursiveScriptModule(original_name=BatchNorm2d)\n",
       "      (2): RecursiveScriptModule(original_name=ReLU)\n",
       "      (3): RecursiveScriptModule(original_name=Conv2d)\n",
       "      (4): RecursiveScriptModule(original_name=BatchNorm2d)\n",
       "    )\n",
       "    (3): RecursiveScriptModule(\n",
       "      original_name=Sequential\n",
       "      (0): RecursiveScriptModule(original_name=Conv2d)\n",
       "      (1): RecursiveScriptModule(original_name=BatchNorm2d)\n",
       "      (2): RecursiveScriptModule(original_name=ReLU)\n",
       "      (3): RecursiveScriptModule(original_name=Conv2d)\n",
       "      (4): RecursiveScriptModule(original_name=BatchNorm2d)\n",
       "    )\n",
       "    (4): RecursiveScriptModule(\n",
       "      original_name=Sequential\n",
       "      (0): RecursiveScriptModule(original_name=Conv2d)\n",
       "      (1): RecursiveScriptModule(original_name=BatchNorm2d)\n",
       "      (2): RecursiveScriptModule(original_name=ReLU)\n",
       "      (3): RecursiveScriptModule(original_name=Conv2d)\n",
       "      (4): RecursiveScriptModule(original_name=BatchNorm2d)\n",
       "    )\n",
       "    (5): RecursiveScriptModule(\n",
       "      original_name=Sequential\n",
       "      (0): RecursiveScriptModule(original_name=Conv2d)\n",
       "      (1): RecursiveScriptModule(original_name=BatchNorm2d)\n",
       "      (2): RecursiveScriptModule(original_name=ReLU)\n",
       "      (3): RecursiveScriptModule(original_name=Conv2d)\n",
       "      (4): RecursiveScriptModule(original_name=BatchNorm2d)\n",
       "    )\n",
       "    (6): RecursiveScriptModule(\n",
       "      original_name=Sequential\n",
       "      (0): RecursiveScriptModule(original_name=Conv2d)\n",
       "      (1): RecursiveScriptModule(original_name=BatchNorm2d)\n",
       "      (2): RecursiveScriptModule(original_name=ReLU)\n",
       "      (3): RecursiveScriptModule(original_name=Conv2d)\n",
       "      (4): RecursiveScriptModule(original_name=BatchNorm2d)\n",
       "    )\n",
       "    (7): RecursiveScriptModule(\n",
       "      original_name=Sequential\n",
       "      (0): RecursiveScriptModule(original_name=Conv2d)\n",
       "      (1): RecursiveScriptModule(original_name=BatchNorm2d)\n",
       "      (2): RecursiveScriptModule(original_name=ReLU)\n",
       "      (3): RecursiveScriptModule(original_name=Conv2d)\n",
       "      (4): RecursiveScriptModule(original_name=BatchNorm2d)\n",
       "    )\n",
       "  )\n",
       "  (policy_head): RecursiveScriptModule(\n",
       "    original_name=Sequential\n",
       "    (0): RecursiveScriptModule(original_name=Conv2d)\n",
       "    (1): RecursiveScriptModule(original_name=BatchNorm2d)\n",
       "    (2): RecursiveScriptModule(original_name=ReLU)\n",
       "    (3): RecursiveScriptModule(original_name=Flatten)\n",
       "    (4): RecursiveScriptModule(original_name=Linear)\n",
       "  )\n",
       "  (value_head): RecursiveScriptModule(\n",
       "    original_name=Sequential\n",
       "    (0): RecursiveScriptModule(original_name=AdaptiveAvgPool2d)\n",
       "    (1): RecursiveScriptModule(original_name=Flatten)\n",
       "    (2): RecursiveScriptModule(original_name=Linear)\n",
       "    (3): RecursiveScriptModule(original_name=Tanh)\n",
       "  )\n",
       ")"
      ]
     },
     "execution_count": 8,
     "metadata": {},
     "output_type": "execute_result"
    }
   ],
   "source": [
    "# Load the model\n",
    "model = \"../model.pt\"\n",
    "model = torch.jit.load(model)\n",
    "model.eval()"
   ]
  },
  {
   "cell_type": "code",
   "execution_count": 9,
   "id": "16ac912a",
   "metadata": {},
   "outputs": [
    {
     "data": {
      "text/plain": [
       "(tensor([[-0.0302, -2.4905, -2.8885,  ..., -2.6366, -0.5154,  0.0293]],\n",
       "        device='cuda:0', grad_fn=<AddmmBackward0>),\n",
       " tensor([[-1.]], device='cuda:0', grad_fn=<TanhBackward0>))"
      ]
     },
     "execution_count": 9,
     "metadata": {},
     "output_type": "execute_result"
    }
   ],
   "source": [
    "model(record['board_tensor'].unsqueeze(0).to('cuda'))"
   ]
  },
  {
   "cell_type": "code",
   "execution_count": 11,
   "id": "90c0afec",
   "metadata": {},
   "outputs": [
    {
     "data": {
      "text/plain": [
       "(tensor([[ 0.0297, -2.6662, -2.6756,  ..., -3.8222, -4.3159,  0.0090]],\n",
       "        device='cuda:0', grad_fn=<AddmmBackward0>),\n",
       " tensor([[-0.0654]], device='cuda:0', grad_fn=<DifferentiableGraphBackward>))"
      ]
     },
     "execution_count": 11,
     "metadata": {},
     "output_type": "execute_result"
    }
   ],
   "source": [
    "import chess\n",
    "board = chess.Board(\"rnbqkb1r/pppp1ppp/5n2/4p2Q/2B1P3/8/PPPP1PPP/RNB1K1NR w KQkq - 2 4\")\n",
    "tensor = torch.tensor(board_to_tensor(board)).to('cuda')\n",
    "model(tensor.unsqueeze(0).to('cuda'))"
   ]
  },
  {
   "cell_type": "code",
   "execution_count": 12,
   "id": "c9341c05",
   "metadata": {},
   "outputs": [
    {
     "data": {
      "text/plain": [
       "115542"
      ]
     },
     "execution_count": 12,
     "metadata": {},
     "output_type": "execute_result"
    }
   ],
   "source": [
    "len(dataset)"
   ]
  },
  {
   "cell_type": "code",
   "execution_count": null,
   "id": "30d461b7",
   "metadata": {},
   "outputs": [],
   "source": []
  }
 ],
 "metadata": {
  "kernelspec": {
   "display_name": "code",
   "language": "python",
   "name": "python3"
  },
  "language_info": {
   "codemirror_mode": {
    "name": "ipython",
    "version": 3
   },
   "file_extension": ".py",
   "mimetype": "text/x-python",
   "name": "python",
   "nbconvert_exporter": "python",
   "pygments_lexer": "ipython3",
   "version": "3.11.13"
  }
 },
 "nbformat": 4,
 "nbformat_minor": 5
}
